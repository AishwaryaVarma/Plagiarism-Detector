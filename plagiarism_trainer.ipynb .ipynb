{
 "cells": [
  {
   "cell_type": "code",
   "execution_count": 1,
   "metadata": {},
   "outputs": [],
   "source": [
    "import pandas as pd\n",
    "import boto3\n",
    "import sagemaker"
   ]
  },
  {
   "cell_type": "code",
   "execution_count": 2,
   "metadata": {},
   "outputs": [],
   "source": [
    "sagemaker_session = sagemaker.Session()\n",
    "role = sagemaker.get_execution_role()\n",
    "\n",
    "# create an S3 bucket\n",
    "bucket = sagemaker_session.default_bucket()"
   ]
  },
  {
   "cell_type": "code",
   "execution_count": 3,
   "metadata": {},
   "outputs": [],
   "source": [
    "data_dir = None\n",
    "\n",
    "# set prefix, a descriptive name for a directory  \n",
    "prefix = None\n"
   ]
  },
  {
   "cell_type": "code",
   "execution_count": 4,
   "metadata": {},
   "outputs": [
    {
     "name": "stdout",
     "output_type": "stream",
     "text": [
      "boston-xgboost-HL/test.csv\n",
      "boston-xgboost-HL/train.csv\n",
      "boston-xgboost-HL/validation.csv\n",
      "boston-xgboost-tuning-HL/output/xgboost-200131-1455-001-af627c84/output/model.tar.gz\n",
      "boston-xgboost-tuning-HL/output/xgboost-200131-1455-002-a408ba24/output/model.tar.gz\n",
      "boston-xgboost-tuning-HL/output/xgboost-200131-1455-003-2a6f6e40/output/model.tar.gz\n",
      "boston-xgboost-tuning-HL/output/xgboost-200131-1455-004-da63b43b/output/model.tar.gz\n",
      "boston-xgboost-tuning-HL/output/xgboost-200131-1455-005-26454744/output/model.tar.gz\n",
      "boston-xgboost-tuning-HL/output/xgboost-200131-1455-006-693f3b36/output/model.tar.gz\n",
      "boston-xgboost-tuning-HL/output/xgboost-200131-1455-007-a46cd9d1/output/model.tar.gz\n",
      "boston-xgboost-tuning-HL/output/xgboost-200131-1455-008-f19cc774/output/model.tar.gz\n",
      "boston-xgboost-tuning-HL/output/xgboost-200131-1455-009-5af8e0c0/output/model.tar.gz\n",
      "boston-xgboost-tuning-HL/output/xgboost-200131-1455-010-03d736a7/output/model.tar.gz\n",
      "boston-xgboost-tuning-HL/output/xgboost-200131-1455-011-86eb294f/output/model.tar.gz\n",
      "boston-xgboost-tuning-HL/output/xgboost-200131-1455-012-33123d67/output/model.tar.gz\n",
      "boston-xgboost-tuning-HL/output/xgboost-200131-1455-013-a5d9b73a/output/model.tar.gz\n",
      "boston-xgboost-tuning-HL/output/xgboost-200131-1455-014-f6b585a8/output/model.tar.gz\n",
      "boston-xgboost-tuning-HL/output/xgboost-200131-1455-015-7fb8e714/output/model.tar.gz\n",
      "boston-xgboost-tuning-HL/output/xgboost-200131-1455-016-33ef200e/output/model.tar.gz\n",
      "boston-xgboost-tuning-HL/output/xgboost-200131-1455-017-d79ff1c2/output/model.tar.gz\n",
      "boston-xgboost-tuning-HL/output/xgboost-200131-1455-018-66f2efaa/output/model.tar.gz\n",
      "boston-xgboost-tuning-HL/output/xgboost-200131-1455-019-207975c9/output/model.tar.gz\n",
      "boston-xgboost-tuning-HL/output/xgboost-200131-1455-020-9de6b1b8/output/model.tar.gz\n",
      "boston-xgboost-tuning-HL/output/xgboost-200131-1521-001-19a6c64c/output/model.tar.gz\n",
      "boston-xgboost-tuning-HL/output/xgboost-200131-1521-002-1bbdb6da/output/model.tar.gz\n",
      "boston-xgboost-tuning-HL/output/xgboost-200131-1521-003-b820495f/output/model.tar.gz\n",
      "boston-xgboost-tuning-HL/output/xgboost-200131-1521-004-29b6551c/output/model.tar.gz\n",
      "boston-xgboost-tuning-HL/output/xgboost-200131-1521-005-94261026/output/model.tar.gz\n",
      "boston-xgboost-tuning-HL/output/xgboost-200131-1521-006-b7c886ce/output/model.tar.gz\n",
      "boston-xgboost-tuning-HL/output/xgboost-200131-1521-007-36339369/output/model.tar.gz\n",
      "boston-xgboost-tuning-HL/output/xgboost-200131-1521-008-082e29df/output/model.tar.gz\n",
      "boston-xgboost-tuning-HL/output/xgboost-200131-1521-009-eab04666/output/model.tar.gz\n",
      "boston-xgboost-tuning-HL/output/xgboost-200131-1521-010-98badb6e/output/model.tar.gz\n",
      "boston-xgboost-tuning-HL/output/xgboost-200131-1521-011-878a05b0/output/model.tar.gz\n",
      "boston-xgboost-tuning-HL/output/xgboost-200131-1521-012-3fc1bf13/output/model.tar.gz\n",
      "boston-xgboost-tuning-HL/output/xgboost-200131-1521-013-d1f488a2/output/model.tar.gz\n",
      "boston-xgboost-tuning-HL/output/xgboost-200131-1521-014-fad7b4a8/output/model.tar.gz\n",
      "boston-xgboost-tuning-HL/output/xgboost-200131-1521-015-e7de797c/output/model.tar.gz\n",
      "boston-xgboost-tuning-HL/output/xgboost-200131-1521-016-6dd752b8/output/model.tar.gz\n",
      "boston-xgboost-tuning-HL/output/xgboost-200131-1521-017-e0e15a52/output/model.tar.gz\n",
      "boston-xgboost-tuning-HL/output/xgboost-200131-1521-018-436b172c/output/model.tar.gz\n",
      "boston-xgboost-tuning-HL/output/xgboost-200131-1521-019-fb97a1ca/output/model.tar.gz\n",
      "boston-xgboost-tuning-HL/output/xgboost-200131-1521-020-411e2b8f/output/model.tar.gz\n",
      "boston-xgboost-tuning-HL/test.csv\n",
      "boston-xgboost-tuning-HL/train.csv\n",
      "boston-xgboost-tuning-HL/validation.csv\n",
      "counties/kmeans-2020-02-28-11-38-50-771/output/model.tar.gz\n",
      "counties/pca-2020-02-28-06-40-16-111/output/model.tar.gz\n",
      "counties/pca-2020-02-28-10-32-06-528/output/model.tar.gz\n",
      "creditcard/linear-learner-2020-02-28-15-48-17-720/output/model.tar.gz\n",
      "creditcard/linear-learner-2020-02-28-16-31-12-344/output/model.tar.gz\n",
      "creditcard/linear-learner-2020-02-28-16-45-00-111/output/model.tar.gz\n",
      "creditcard/linear-learner-2020-02-28-16-59-22-919/output/model.tar.gz\n",
      "sagemaker-record-sets/KMeans-2020-02-28-11-38-23-113/.amazon.manifest\n",
      "sagemaker-record-sets/KMeans-2020-02-28-11-38-23-113/matrix_0.pbr\n",
      "sagemaker-record-sets/LinearLearner-2020-02-28-15-47-45-145/.amazon.manifest\n",
      "sagemaker-record-sets/LinearLearner-2020-02-28-15-47-45-145/matrix_0.pbr\n",
      "sagemaker-record-sets/PCA-2020-02-28-06-39-47-785/.amazon.manifest\n",
      "sagemaker-record-sets/PCA-2020-02-28-06-39-47-785/matrix_0.pbr\n",
      "sagemaker-record-sets/PCA-2020-02-28-06-39-50-987/.amazon.manifest\n",
      "sagemaker-record-sets/PCA-2020-02-28-06-39-50-987/matrix_0.pbr\n",
      "sentiment-xgboost/output/xgboost-2020-02-05-16-43-57-165/output/model.tar.gz\n",
      "sentiment-xgboost/output/xgboost-2020-02-05-17-05-25-202/output/model.tar.gz\n",
      "sentiment-xgboost/test.csv\n",
      "sentiment-xgboost/train.csv\n",
      "sentiment-xgboost/validation.csv\n",
      "xgboost-200131-1521-008-082e29df-2020-01-31-16-38-49-532/test.csv.out\n",
      "xgboost-2020-02-05-16-51-11-583/test.csv.out\n",
      "Test passed!\n"
     ]
    }
   ],
   "source": [
    "empty_check = []\n",
    "for obj in boto3.resource('s3').Bucket(bucket).objects.all():\n",
    "    empty_check.append(obj.key)\n",
    "    print(obj.key)\n",
    "\n",
    "assert len(empty_check) !=0, 'S3 bucket is empty.'\n",
    "print('Test passed!')"
   ]
  },
  {
   "cell_type": "code",
   "execution_count": 5,
   "metadata": {},
   "outputs": [
    {
     "name": "stdout",
     "output_type": "stream",
     "text": [
      "\u001b[34mfrom\u001b[39;49;00m \u001b[04m\u001b[36m__future__\u001b[39;49;00m \u001b[34mimport\u001b[39;49;00m print_function\r\n",
      "\r\n",
      "\u001b[34mimport\u001b[39;49;00m \u001b[04m\u001b[36margparse\u001b[39;49;00m\r\n",
      "\u001b[34mimport\u001b[39;49;00m \u001b[04m\u001b[36mos\u001b[39;49;00m\r\n",
      "\u001b[34mimport\u001b[39;49;00m \u001b[04m\u001b[36mpandas\u001b[39;49;00m \u001b[34mas\u001b[39;49;00m \u001b[04m\u001b[36mpd\u001b[39;49;00m\r\n",
      "\r\n",
      "\u001b[34mfrom\u001b[39;49;00m \u001b[04m\u001b[36msklearn.externals\u001b[39;49;00m \u001b[34mimport\u001b[39;49;00m joblib\r\n",
      "\r\n",
      "\u001b[37m## TODO: Import any additional libraries you need to define a model\u001b[39;49;00m\r\n",
      "\r\n",
      "\r\n",
      "\u001b[37m# Provided model load function\u001b[39;49;00m\r\n",
      "\u001b[34mdef\u001b[39;49;00m \u001b[32mmodel_fn\u001b[39;49;00m(model_dir):\r\n",
      "    \u001b[33m\"\"\"Load model from the model_dir. This is the same model that is saved\u001b[39;49;00m\r\n",
      "\u001b[33m    in the main if statement.\u001b[39;49;00m\r\n",
      "\u001b[33m    \"\"\"\u001b[39;49;00m\r\n",
      "    \u001b[34mprint\u001b[39;49;00m(\u001b[33m\"\u001b[39;49;00m\u001b[33mLoading model.\u001b[39;49;00m\u001b[33m\"\u001b[39;49;00m)\r\n",
      "    \r\n",
      "    \u001b[37m# load using joblib\u001b[39;49;00m\r\n",
      "    model = joblib.load(os.path.join(model_dir, \u001b[33m\"\u001b[39;49;00m\u001b[33mmodel.joblib\u001b[39;49;00m\u001b[33m\"\u001b[39;49;00m))\r\n",
      "    \u001b[34mprint\u001b[39;49;00m(\u001b[33m\"\u001b[39;49;00m\u001b[33mDone loading model.\u001b[39;49;00m\u001b[33m\"\u001b[39;49;00m)\r\n",
      "    \r\n",
      "    \u001b[34mreturn\u001b[39;49;00m model\r\n",
      "\r\n",
      "\r\n",
      "\u001b[37m## TODO: Complete the main code\u001b[39;49;00m\r\n",
      "\u001b[34mif\u001b[39;49;00m \u001b[31m__name__\u001b[39;49;00m == \u001b[33m'\u001b[39;49;00m\u001b[33m__main__\u001b[39;49;00m\u001b[33m'\u001b[39;49;00m:\r\n",
      "    \r\n",
      "    \u001b[37m# All of the model parameters and training parameters are sent as arguments\u001b[39;49;00m\r\n",
      "    \u001b[37m# when this script is executed, during a training job\u001b[39;49;00m\r\n",
      "    \r\n",
      "    \u001b[37m# Here we set up an argument parser to easily access the parameters\u001b[39;49;00m\r\n",
      "    parser = argparse.ArgumentParser()\r\n",
      "\r\n",
      "    \u001b[37m# SageMaker parameters, like the directories for training data and saving models; set automatically\u001b[39;49;00m\r\n",
      "    \u001b[37m# Do not need to change\u001b[39;49;00m\r\n",
      "    parser.add_argument(\u001b[33m'\u001b[39;49;00m\u001b[33m--output-data-dir\u001b[39;49;00m\u001b[33m'\u001b[39;49;00m, \u001b[36mtype\u001b[39;49;00m=\u001b[36mstr\u001b[39;49;00m, default=os.environ[\u001b[33m'\u001b[39;49;00m\u001b[33mSM_OUTPUT_DATA_DIR\u001b[39;49;00m\u001b[33m'\u001b[39;49;00m])\r\n",
      "    parser.add_argument(\u001b[33m'\u001b[39;49;00m\u001b[33m--model-dir\u001b[39;49;00m\u001b[33m'\u001b[39;49;00m, \u001b[36mtype\u001b[39;49;00m=\u001b[36mstr\u001b[39;49;00m, default=os.environ[\u001b[33m'\u001b[39;49;00m\u001b[33mSM_MODEL_DIR\u001b[39;49;00m\u001b[33m'\u001b[39;49;00m])\r\n",
      "    parser.add_argument(\u001b[33m'\u001b[39;49;00m\u001b[33m--data-dir\u001b[39;49;00m\u001b[33m'\u001b[39;49;00m, \u001b[36mtype\u001b[39;49;00m=\u001b[36mstr\u001b[39;49;00m, default=os.environ[\u001b[33m'\u001b[39;49;00m\u001b[33mSM_CHANNEL_TRAIN\u001b[39;49;00m\u001b[33m'\u001b[39;49;00m])\r\n",
      "    \r\n",
      "    \u001b[37m## TODO: Add any additional arguments that you will need to pass into your model\u001b[39;49;00m\r\n",
      "    \r\n",
      "    \u001b[37m# args holds all passed-in arguments\u001b[39;49;00m\r\n",
      "    args = parser.parse_args()\r\n",
      "\r\n",
      "    \u001b[37m# Read in csv training file\u001b[39;49;00m\r\n",
      "    training_dir = args.data_dir\r\n",
      "    train_data = pd.read_csv(os.path.join(training_dir, \u001b[33m\"\u001b[39;49;00m\u001b[33mtrain.csv\u001b[39;49;00m\u001b[33m\"\u001b[39;49;00m), header=\u001b[36mNone\u001b[39;49;00m, names=\u001b[36mNone\u001b[39;49;00m)\r\n",
      "\r\n",
      "    \u001b[37m# Labels are in the first column\u001b[39;49;00m\r\n",
      "    train_y = train_data.iloc[:,\u001b[34m0\u001b[39;49;00m]\r\n",
      "    train_x = train_data.iloc[:,\u001b[34m1\u001b[39;49;00m:]\r\n",
      "    \r\n",
      "    \r\n",
      "    \u001b[37m## --- Your code here --- ##\u001b[39;49;00m\r\n",
      "    \r\n",
      "\r\n",
      "    \u001b[37m## TODO: Define a model \u001b[39;49;00m\r\n",
      "    model = \u001b[36mNone\u001b[39;49;00m\r\n",
      "    \r\n",
      "    \r\n",
      "    \u001b[37m## TODO: Train the model\u001b[39;49;00m\r\n",
      "    \r\n",
      "    \r\n",
      "    \r\n",
      "    \u001b[37m## --- End of your code  --- ##\u001b[39;49;00m\r\n",
      "    \r\n",
      "\r\n",
      "    \u001b[37m# Save the trained model\u001b[39;49;00m\r\n",
      "    joblib.dump(model, os.path.join(args.model_dir, \u001b[33m\"\u001b[39;49;00m\u001b[33mmodel.joblib\u001b[39;49;00m\u001b[33m\"\u001b[39;49;00m))\r\n"
     ]
    }
   ],
   "source": [
    "!pygmentize source_sklearn/train.py"
   ]
  },
  {
   "cell_type": "code",
   "execution_count": 6,
   "metadata": {},
   "outputs": [
    {
     "name": "stderr",
     "output_type": "stream",
     "text": [
      "UsageError: %%time is a cell magic, but the cell body is empty. Did you mean the line magic %time (single %)?\n"
     ]
    }
   ],
   "source": [
    "%%time"
   ]
  },
  {
   "cell_type": "code",
   "execution_count": 7,
   "metadata": {},
   "outputs": [
    {
     "name": "stdout",
     "output_type": "stream",
     "text": [
      "CPU times: user 3 µs, sys: 0 ns, total: 3 µs\n",
      "Wall time: 7.39 µs\n"
     ]
    }
   ],
   "source": [
    "%%time\n",
    "\n",
    "# uncomment, if needed\n",
    "# from sagemaker.pytorch import PyTorchModel\n",
    "\n",
    "\n",
    "# deploy your model to create a predictor\n",
    "predictor = None\n"
   ]
  },
  {
   "cell_type": "code",
   "execution_count": 11,
   "metadata": {},
   "outputs": [
    {
     "name": "stdout",
     "output_type": "stream",
     "text": [
      "None\n",
      "\n",
      "Predicted class labels: \n"
     ]
    }
   ],
   "source": [
    "# Second: calculate the test accuracy\n",
    "accuracy = None\n",
    "\n",
    "print(accuracy)\n",
    "\n",
    "\n",
    "## print out the array of predicted and true labels, if you want\n",
    "print('\\nPredicted class labels: ')\n"
   ]
  },
  {
   "cell_type": "code",
   "execution_count": null,
   "metadata": {},
   "outputs": [],
   "source": []
  }
 ],
 "metadata": {
  "kernelspec": {
   "display_name": "conda_pytorch_p36",
   "language": "python",
   "name": "conda_pytorch_p36"
  },
  "language_info": {
   "codemirror_mode": {
    "name": "ipython",
    "version": 3
   },
   "file_extension": ".py",
   "mimetype": "text/x-python",
   "name": "python",
   "nbconvert_exporter": "python",
   "pygments_lexer": "ipython3",
   "version": "3.6.5"
  }
 },
 "nbformat": 4,
 "nbformat_minor": 4
}
